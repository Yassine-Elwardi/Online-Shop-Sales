{
 "cells": [
  {
   "cell_type": "markdown",
   "id": "c0e13888-7325-4ab3-ba91-e395e548c9c8",
   "metadata": {},
   "source": [
    "## Online shop Sales Analysis"
   ]
  },
  {
   "cell_type": "markdown",
   "id": "74008a7b-c5c9-4339-982a-dbd61cd6553c",
   "metadata": {},
   "source": [
    "#### Import necessary libraries"
   ]
  },
  {
   "cell_type": "code",
   "execution_count": 4,
   "id": "bec5560c-0a26-4f25-b888-b3aa1d76afb1",
   "metadata": {},
   "outputs": [],
   "source": [
    "import pandas as pd\n",
    "import matplotlib.pyplot as plt"
   ]
  },
  {
   "cell_type": "markdown",
   "id": "ad222b61-20c1-4cb4-ae53-5c0930f32c0f",
   "metadata": {},
   "source": [
    "#### Read dataframe"
   ]
  },
  {
   "cell_type": "code",
   "execution_count": 6,
   "id": "ca30107d-bec8-4150-94e3-6edb9f824ecb",
   "metadata": {},
   "outputs": [
    {
     "data": {
      "text/html": [
       "<div>\n",
       "<style scoped>\n",
       "    .dataframe tbody tr th:only-of-type {\n",
       "        vertical-align: middle;\n",
       "    }\n",
       "\n",
       "    .dataframe tbody tr th {\n",
       "        vertical-align: top;\n",
       "    }\n",
       "\n",
       "    .dataframe thead th {\n",
       "        text-align: right;\n",
       "    }\n",
       "</style>\n",
       "<table border=\"1\" class=\"dataframe\">\n",
       "  <thead>\n",
       "    <tr style=\"text-align: right;\">\n",
       "      <th></th>\n",
       "      <th>Customer_id</th>\n",
       "      <th>Age</th>\n",
       "      <th>Gender</th>\n",
       "      <th>Revenue_Total</th>\n",
       "      <th>N_Purchases</th>\n",
       "      <th>Purchase_DATE</th>\n",
       "      <th>Purchase_VALUE</th>\n",
       "      <th>Pay_Method</th>\n",
       "      <th>Time_Spent</th>\n",
       "      <th>Browser</th>\n",
       "      <th>Newsletter</th>\n",
       "      <th>Voucher</th>\n",
       "    </tr>\n",
       "  </thead>\n",
       "  <tbody>\n",
       "    <tr>\n",
       "      <th>0</th>\n",
       "      <td>504308</td>\n",
       "      <td>53</td>\n",
       "      <td>0</td>\n",
       "      <td>45.3</td>\n",
       "      <td>2</td>\n",
       "      <td>22.06.21</td>\n",
       "      <td>24.915</td>\n",
       "      <td>1</td>\n",
       "      <td>885</td>\n",
       "      <td>0</td>\n",
       "      <td>0</td>\n",
       "      <td>0</td>\n",
       "    </tr>\n",
       "    <tr>\n",
       "      <th>1</th>\n",
       "      <td>504309</td>\n",
       "      <td>18</td>\n",
       "      <td>1</td>\n",
       "      <td>36.2</td>\n",
       "      <td>3</td>\n",
       "      <td>10.12.21</td>\n",
       "      <td>2.896</td>\n",
       "      <td>2</td>\n",
       "      <td>656</td>\n",
       "      <td>0</td>\n",
       "      <td>0</td>\n",
       "      <td>1</td>\n",
       "    </tr>\n",
       "    <tr>\n",
       "      <th>2</th>\n",
       "      <td>504310</td>\n",
       "      <td>52</td>\n",
       "      <td>1</td>\n",
       "      <td>10.6</td>\n",
       "      <td>1</td>\n",
       "      <td>14.03.21</td>\n",
       "      <td>10.600</td>\n",
       "      <td>0</td>\n",
       "      <td>761</td>\n",
       "      <td>0</td>\n",
       "      <td>1</td>\n",
       "      <td>0</td>\n",
       "    </tr>\n",
       "    <tr>\n",
       "      <th>3</th>\n",
       "      <td>504311</td>\n",
       "      <td>29</td>\n",
       "      <td>0</td>\n",
       "      <td>54.1</td>\n",
       "      <td>5</td>\n",
       "      <td>25.10.21</td>\n",
       "      <td>43.280</td>\n",
       "      <td>1</td>\n",
       "      <td>906</td>\n",
       "      <td>0</td>\n",
       "      <td>1</td>\n",
       "      <td>0</td>\n",
       "    </tr>\n",
       "    <tr>\n",
       "      <th>4</th>\n",
       "      <td>504312</td>\n",
       "      <td>21</td>\n",
       "      <td>1</td>\n",
       "      <td>56.9</td>\n",
       "      <td>1</td>\n",
       "      <td>14.09.21</td>\n",
       "      <td>56.900</td>\n",
       "      <td>1</td>\n",
       "      <td>605</td>\n",
       "      <td>0</td>\n",
       "      <td>1</td>\n",
       "      <td>0</td>\n",
       "    </tr>\n",
       "  </tbody>\n",
       "</table>\n",
       "</div>"
      ],
      "text/plain": [
       "   Customer_id  Age  Gender  Revenue_Total  N_Purchases Purchase_DATE  \\\n",
       "0       504308   53       0           45.3            2      22.06.21   \n",
       "1       504309   18       1           36.2            3      10.12.21   \n",
       "2       504310   52       1           10.6            1      14.03.21   \n",
       "3       504311   29       0           54.1            5      25.10.21   \n",
       "4       504312   21       1           56.9            1      14.09.21   \n",
       "\n",
       "   Purchase_VALUE  Pay_Method  Time_Spent  Browser  Newsletter  Voucher  \n",
       "0          24.915           1         885        0           0        0  \n",
       "1           2.896           2         656        0           0        1  \n",
       "2          10.600           0         761        0           1        0  \n",
       "3          43.280           1         906        0           1        0  \n",
       "4          56.900           1         605        0           1        0  "
      ]
     },
     "execution_count": 6,
     "metadata": {},
     "output_type": "execute_result"
    }
   ],
   "source": [
    "df = pd.read_csv('./Online-Sales.csv')\n",
    "df.head()"
   ]
  },
  {
   "cell_type": "code",
   "execution_count": 7,
   "id": "c0580ed7-29b2-4b9d-8167-3a1187342eca",
   "metadata": {},
   "outputs": [
    {
     "name": "stdout",
     "output_type": "stream",
     "text": [
      "<class 'pandas.core.frame.DataFrame'>\n",
      "RangeIndex: 65796 entries, 0 to 65795\n",
      "Data columns (total 12 columns):\n",
      " #   Column          Non-Null Count  Dtype  \n",
      "---  ------          --------------  -----  \n",
      " 0   Customer_id     65796 non-null  int64  \n",
      " 1   Age             65796 non-null  int64  \n",
      " 2   Gender          65796 non-null  int64  \n",
      " 3   Revenue_Total   65796 non-null  float64\n",
      " 4   N_Purchases     65796 non-null  int64  \n",
      " 5   Purchase_DATE   65796 non-null  object \n",
      " 6   Purchase_VALUE  65796 non-null  float64\n",
      " 7   Pay_Method      65796 non-null  int64  \n",
      " 8   Time_Spent      65796 non-null  int64  \n",
      " 9   Browser         65796 non-null  int64  \n",
      " 10  Newsletter      65796 non-null  int64  \n",
      " 11  Voucher         65796 non-null  int64  \n",
      "dtypes: float64(2), int64(9), object(1)\n",
      "memory usage: 6.0+ MB\n"
     ]
    }
   ],
   "source": [
    "df.info()"
   ]
  },
  {
   "cell_type": "markdown",
   "id": "9296d748-163a-4013-ae98-6aa2e453ff9d",
   "metadata": {},
   "source": [
    "#### Converting Numerical Values To Categorical"
   ]
  },
  {
   "cell_type": "markdown",
   "id": "d040fda8-e029-4fad-ab7c-5681dec01b8c",
   "metadata": {},
   "source": [
    "##### 1-Gender = 0: Male, 1: Female\n",
    "##### 2-Pay_Method = 0: Digital Wallets, 1: Card, 2: PayPal, 3: Other\n",
    "##### 3-Browser = 0: Chrome, 1: Safari, 2: Edge, 3: Other\n",
    "##### 4-Newsletter = 0: not subscribed, 1: subscribed\n",
    "##### 5-Voucher = 0: not used, 1: used"
   ]
  },
  {
   "cell_type": "code",
   "execution_count": 10,
   "id": "5eef0f3b-73b9-4d1e-9976-8f586891def6",
   "metadata": {},
   "outputs": [],
   "source": [
    "def gender(g):\n",
    "    d = {0:'Male',1:'Female'}\n",
    "    return d[g]\n",
    "def payMethod(g):\n",
    "    d = {0:'Digital Wallets',1:'Card',2:'Card',3:'Other'}\n",
    "    return d[g]\n",
    "def browser(g):\n",
    "    d = {0:'Chrome',1:'Safari',2:'Edge',3:'Other'}\n",
    "    return d[g]\n",
    "def newsletter(g):\n",
    "    d = {0:'not subscribed',1:'subscribed'}\n",
    "    return d[g]\n",
    "def voucher(g):\n",
    "    d = {0:'not used',1:'used'}\n",
    "    return d[g]"
   ]
  },
  {
   "cell_type": "code",
   "execution_count": 11,
   "id": "fae191c1-5b58-4c07-8a20-e6ec38c9cce0",
   "metadata": {},
   "outputs": [],
   "source": [
    "df['Gender'] = df['Gender'].apply(gender)\n",
    "df['Pay_Method'] = df['Pay_Method'].apply(payMethod)\n",
    "df['Browser'] = df['Browser'].apply(browser)\n",
    "df['Newsletter'] = df['Newsletter'].apply(newsletter)\n",
    "df['Voucher'] = df['Voucher'].apply(voucher)"
   ]
  },
  {
   "cell_type": "code",
   "execution_count": 12,
   "id": "8b1b6bc3-b485-4ee4-91c9-9128b80484c7",
   "metadata": {},
   "outputs": [
    {
     "name": "stderr",
     "output_type": "stream",
     "text": [
      "C:\\Users\\PC\\AppData\\Local\\Temp\\ipykernel_15100\\2340794737.py:1: UserWarning: Could not infer format, so each element will be parsed individually, falling back to `dateutil`. To ensure parsing is consistent and as-expected, please specify a format.\n",
      "  df['Purchase_DATE'] = pd.to_datetime(df['Purchase_DATE'])\n"
     ]
    }
   ],
   "source": [
    "df['Purchase_DATE'] = pd.to_datetime(df['Purchase_DATE'])"
   ]
  },
  {
   "cell_type": "code",
   "execution_count": 13,
   "id": "03dc9b3b-9786-47b4-84ca-7566714cdea9",
   "metadata": {},
   "outputs": [
    {
     "data": {
      "text/html": [
       "<div>\n",
       "<style scoped>\n",
       "    .dataframe tbody tr th:only-of-type {\n",
       "        vertical-align: middle;\n",
       "    }\n",
       "\n",
       "    .dataframe tbody tr th {\n",
       "        vertical-align: top;\n",
       "    }\n",
       "\n",
       "    .dataframe thead th {\n",
       "        text-align: right;\n",
       "    }\n",
       "</style>\n",
       "<table border=\"1\" class=\"dataframe\">\n",
       "  <thead>\n",
       "    <tr style=\"text-align: right;\">\n",
       "      <th></th>\n",
       "      <th>Customer_id</th>\n",
       "      <th>Age</th>\n",
       "      <th>Gender</th>\n",
       "      <th>Revenue_Total</th>\n",
       "      <th>N_Purchases</th>\n",
       "      <th>Purchase_DATE</th>\n",
       "      <th>Purchase_VALUE</th>\n",
       "      <th>Pay_Method</th>\n",
       "      <th>Time_Spent</th>\n",
       "      <th>Browser</th>\n",
       "      <th>Newsletter</th>\n",
       "      <th>Voucher</th>\n",
       "    </tr>\n",
       "  </thead>\n",
       "  <tbody>\n",
       "    <tr>\n",
       "      <th>0</th>\n",
       "      <td>504308</td>\n",
       "      <td>53</td>\n",
       "      <td>Male</td>\n",
       "      <td>45.3</td>\n",
       "      <td>2</td>\n",
       "      <td>2021-06-22</td>\n",
       "      <td>24.915</td>\n",
       "      <td>Card</td>\n",
       "      <td>885</td>\n",
       "      <td>Chrome</td>\n",
       "      <td>not subscribed</td>\n",
       "      <td>not used</td>\n",
       "    </tr>\n",
       "    <tr>\n",
       "      <th>1</th>\n",
       "      <td>504309</td>\n",
       "      <td>18</td>\n",
       "      <td>Female</td>\n",
       "      <td>36.2</td>\n",
       "      <td>3</td>\n",
       "      <td>2021-10-12</td>\n",
       "      <td>2.896</td>\n",
       "      <td>Card</td>\n",
       "      <td>656</td>\n",
       "      <td>Chrome</td>\n",
       "      <td>not subscribed</td>\n",
       "      <td>used</td>\n",
       "    </tr>\n",
       "    <tr>\n",
       "      <th>2</th>\n",
       "      <td>504310</td>\n",
       "      <td>52</td>\n",
       "      <td>Female</td>\n",
       "      <td>10.6</td>\n",
       "      <td>1</td>\n",
       "      <td>2021-03-14</td>\n",
       "      <td>10.600</td>\n",
       "      <td>Digital Wallets</td>\n",
       "      <td>761</td>\n",
       "      <td>Chrome</td>\n",
       "      <td>subscribed</td>\n",
       "      <td>not used</td>\n",
       "    </tr>\n",
       "    <tr>\n",
       "      <th>3</th>\n",
       "      <td>504311</td>\n",
       "      <td>29</td>\n",
       "      <td>Male</td>\n",
       "      <td>54.1</td>\n",
       "      <td>5</td>\n",
       "      <td>2021-10-25</td>\n",
       "      <td>43.280</td>\n",
       "      <td>Card</td>\n",
       "      <td>906</td>\n",
       "      <td>Chrome</td>\n",
       "      <td>subscribed</td>\n",
       "      <td>not used</td>\n",
       "    </tr>\n",
       "    <tr>\n",
       "      <th>4</th>\n",
       "      <td>504312</td>\n",
       "      <td>21</td>\n",
       "      <td>Female</td>\n",
       "      <td>56.9</td>\n",
       "      <td>1</td>\n",
       "      <td>2021-09-14</td>\n",
       "      <td>56.900</td>\n",
       "      <td>Card</td>\n",
       "      <td>605</td>\n",
       "      <td>Chrome</td>\n",
       "      <td>subscribed</td>\n",
       "      <td>not used</td>\n",
       "    </tr>\n",
       "  </tbody>\n",
       "</table>\n",
       "</div>"
      ],
      "text/plain": [
       "   Customer_id  Age  Gender  Revenue_Total  N_Purchases Purchase_DATE  \\\n",
       "0       504308   53    Male           45.3            2    2021-06-22   \n",
       "1       504309   18  Female           36.2            3    2021-10-12   \n",
       "2       504310   52  Female           10.6            1    2021-03-14   \n",
       "3       504311   29    Male           54.1            5    2021-10-25   \n",
       "4       504312   21  Female           56.9            1    2021-09-14   \n",
       "\n",
       "   Purchase_VALUE       Pay_Method  Time_Spent Browser      Newsletter  \\\n",
       "0          24.915             Card         885  Chrome  not subscribed   \n",
       "1           2.896             Card         656  Chrome  not subscribed   \n",
       "2          10.600  Digital Wallets         761  Chrome      subscribed   \n",
       "3          43.280             Card         906  Chrome      subscribed   \n",
       "4          56.900             Card         605  Chrome      subscribed   \n",
       "\n",
       "    Voucher  \n",
       "0  not used  \n",
       "1      used  \n",
       "2  not used  \n",
       "3  not used  \n",
       "4  not used  "
      ]
     },
     "execution_count": 13,
     "metadata": {},
     "output_type": "execute_result"
    }
   ],
   "source": [
    "df.head()"
   ]
  },
  {
   "cell_type": "markdown",
   "id": "b62c467f-743c-4277-8e7a-dbc215e7e9a6",
   "metadata": {},
   "source": [
    "### What Age Group Buys from us the most ? "
   ]
  },
  {
   "cell_type": "markdown",
   "id": "3bdca5fc-74dc-43a7-9fe7-a9c821e76cc9",
   "metadata": {},
   "source": [
    "#### Create an age range : "
   ]
  },
  {
   "cell_type": "code",
   "execution_count": 16,
   "id": "8b9f6ef5-dd93-426b-bea7-b10de24fa00f",
   "metadata": {},
   "outputs": [
    {
     "data": {
      "text/html": [
       "<div>\n",
       "<style scoped>\n",
       "    .dataframe tbody tr th:only-of-type {\n",
       "        vertical-align: middle;\n",
       "    }\n",
       "\n",
       "    .dataframe tbody tr th {\n",
       "        vertical-align: top;\n",
       "    }\n",
       "\n",
       "    .dataframe thead th {\n",
       "        text-align: right;\n",
       "    }\n",
       "</style>\n",
       "<table border=\"1\" class=\"dataframe\">\n",
       "  <thead>\n",
       "    <tr style=\"text-align: right;\">\n",
       "      <th></th>\n",
       "      <th>Customer_id</th>\n",
       "      <th>Age</th>\n",
       "      <th>Gender</th>\n",
       "      <th>Revenue_Total</th>\n",
       "      <th>N_Purchases</th>\n",
       "      <th>Purchase_DATE</th>\n",
       "      <th>Purchase_VALUE</th>\n",
       "      <th>Pay_Method</th>\n",
       "      <th>Time_Spent</th>\n",
       "      <th>Browser</th>\n",
       "      <th>Newsletter</th>\n",
       "      <th>Voucher</th>\n",
       "      <th>Group-Age</th>\n",
       "    </tr>\n",
       "  </thead>\n",
       "  <tbody>\n",
       "    <tr>\n",
       "      <th>0</th>\n",
       "      <td>504308</td>\n",
       "      <td>53</td>\n",
       "      <td>Male</td>\n",
       "      <td>45.3</td>\n",
       "      <td>2</td>\n",
       "      <td>2021-06-22</td>\n",
       "      <td>24.915</td>\n",
       "      <td>Card</td>\n",
       "      <td>885</td>\n",
       "      <td>Chrome</td>\n",
       "      <td>not subscribed</td>\n",
       "      <td>not used</td>\n",
       "      <td>50s-55s</td>\n",
       "    </tr>\n",
       "    <tr>\n",
       "      <th>1</th>\n",
       "      <td>504309</td>\n",
       "      <td>18</td>\n",
       "      <td>Female</td>\n",
       "      <td>36.2</td>\n",
       "      <td>3</td>\n",
       "      <td>2021-10-12</td>\n",
       "      <td>2.896</td>\n",
       "      <td>Card</td>\n",
       "      <td>656</td>\n",
       "      <td>Chrome</td>\n",
       "      <td>not subscribed</td>\n",
       "      <td>used</td>\n",
       "      <td>15s-20s</td>\n",
       "    </tr>\n",
       "    <tr>\n",
       "      <th>2</th>\n",
       "      <td>504310</td>\n",
       "      <td>52</td>\n",
       "      <td>Female</td>\n",
       "      <td>10.6</td>\n",
       "      <td>1</td>\n",
       "      <td>2021-03-14</td>\n",
       "      <td>10.600</td>\n",
       "      <td>Digital Wallets</td>\n",
       "      <td>761</td>\n",
       "      <td>Chrome</td>\n",
       "      <td>subscribed</td>\n",
       "      <td>not used</td>\n",
       "      <td>50s-55s</td>\n",
       "    </tr>\n",
       "    <tr>\n",
       "      <th>3</th>\n",
       "      <td>504311</td>\n",
       "      <td>29</td>\n",
       "      <td>Male</td>\n",
       "      <td>54.1</td>\n",
       "      <td>5</td>\n",
       "      <td>2021-10-25</td>\n",
       "      <td>43.280</td>\n",
       "      <td>Card</td>\n",
       "      <td>906</td>\n",
       "      <td>Chrome</td>\n",
       "      <td>subscribed</td>\n",
       "      <td>not used</td>\n",
       "      <td>25s-30s</td>\n",
       "    </tr>\n",
       "    <tr>\n",
       "      <th>4</th>\n",
       "      <td>504312</td>\n",
       "      <td>21</td>\n",
       "      <td>Female</td>\n",
       "      <td>56.9</td>\n",
       "      <td>1</td>\n",
       "      <td>2021-09-14</td>\n",
       "      <td>56.900</td>\n",
       "      <td>Card</td>\n",
       "      <td>605</td>\n",
       "      <td>Chrome</td>\n",
       "      <td>subscribed</td>\n",
       "      <td>not used</td>\n",
       "      <td>20s-25s</td>\n",
       "    </tr>\n",
       "  </tbody>\n",
       "</table>\n",
       "</div>"
      ],
      "text/plain": [
       "   Customer_id  Age  Gender  Revenue_Total  N_Purchases Purchase_DATE  \\\n",
       "0       504308   53    Male           45.3            2    2021-06-22   \n",
       "1       504309   18  Female           36.2            3    2021-10-12   \n",
       "2       504310   52  Female           10.6            1    2021-03-14   \n",
       "3       504311   29    Male           54.1            5    2021-10-25   \n",
       "4       504312   21  Female           56.9            1    2021-09-14   \n",
       "\n",
       "   Purchase_VALUE       Pay_Method  Time_Spent Browser      Newsletter  \\\n",
       "0          24.915             Card         885  Chrome  not subscribed   \n",
       "1           2.896             Card         656  Chrome  not subscribed   \n",
       "2          10.600  Digital Wallets         761  Chrome      subscribed   \n",
       "3          43.280             Card         906  Chrome      subscribed   \n",
       "4          56.900             Card         605  Chrome      subscribed   \n",
       "\n",
       "    Voucher Group-Age  \n",
       "0  not used   50s-55s  \n",
       "1      used   15s-20s  \n",
       "2  not used   50s-55s  \n",
       "3  not used   25s-30s  \n",
       "4  not used   20s-25s  "
      ]
     },
     "execution_count": 16,
     "metadata": {},
     "output_type": "execute_result"
    }
   ],
   "source": [
    "def groupAge(v):\n",
    "    lower = (v // 10) * 10 # get decacde\n",
    "    mid = lower + 5\n",
    "    upper = lower + 10\n",
    "    return f\"{lower}s-{mid}s\" if v % 10 <= 5 else f\"{mid}s-{upper}s\"\n",
    "df['Group-Age'] = df['Age'].apply(groupAge)\n",
    "df.head()"
   ]
  },
  {
   "cell_type": "markdown",
   "id": "6ecc8865-e24b-4f55-8968-ec11dcbb2e2c",
   "metadata": {},
   "source": [
    "#### Move the column Group-Age"
   ]
  },
  {
   "cell_type": "code",
   "execution_count": 18,
   "id": "30ff59eb-b8ea-4d5f-b114-b6c66f0b2238",
   "metadata": {},
   "outputs": [],
   "source": [
    "col = df.pop('Group-Age')\n",
    "df.insert(2,'Group-Age',col)"
   ]
  },
  {
   "cell_type": "code",
   "execution_count": 19,
   "id": "e878947e-7d5c-4c4f-88f5-7a1e1b8c5011",
   "metadata": {},
   "outputs": [
    {
     "data": {
      "text/html": [
       "<div>\n",
       "<style scoped>\n",
       "    .dataframe tbody tr th:only-of-type {\n",
       "        vertical-align: middle;\n",
       "    }\n",
       "\n",
       "    .dataframe tbody tr th {\n",
       "        vertical-align: top;\n",
       "    }\n",
       "\n",
       "    .dataframe thead th {\n",
       "        text-align: right;\n",
       "    }\n",
       "</style>\n",
       "<table border=\"1\" class=\"dataframe\">\n",
       "  <thead>\n",
       "    <tr style=\"text-align: right;\">\n",
       "      <th></th>\n",
       "      <th>Customer_id</th>\n",
       "      <th>Age</th>\n",
       "      <th>Group-Age</th>\n",
       "      <th>Gender</th>\n",
       "      <th>Revenue_Total</th>\n",
       "      <th>N_Purchases</th>\n",
       "      <th>Purchase_DATE</th>\n",
       "      <th>Purchase_VALUE</th>\n",
       "      <th>Pay_Method</th>\n",
       "      <th>Time_Spent</th>\n",
       "      <th>Browser</th>\n",
       "      <th>Newsletter</th>\n",
       "      <th>Voucher</th>\n",
       "    </tr>\n",
       "  </thead>\n",
       "  <tbody>\n",
       "    <tr>\n",
       "      <th>0</th>\n",
       "      <td>504308</td>\n",
       "      <td>53</td>\n",
       "      <td>50s-55s</td>\n",
       "      <td>Male</td>\n",
       "      <td>45.3</td>\n",
       "      <td>2</td>\n",
       "      <td>2021-06-22</td>\n",
       "      <td>24.915</td>\n",
       "      <td>Card</td>\n",
       "      <td>885</td>\n",
       "      <td>Chrome</td>\n",
       "      <td>not subscribed</td>\n",
       "      <td>not used</td>\n",
       "    </tr>\n",
       "    <tr>\n",
       "      <th>1</th>\n",
       "      <td>504309</td>\n",
       "      <td>18</td>\n",
       "      <td>15s-20s</td>\n",
       "      <td>Female</td>\n",
       "      <td>36.2</td>\n",
       "      <td>3</td>\n",
       "      <td>2021-10-12</td>\n",
       "      <td>2.896</td>\n",
       "      <td>Card</td>\n",
       "      <td>656</td>\n",
       "      <td>Chrome</td>\n",
       "      <td>not subscribed</td>\n",
       "      <td>used</td>\n",
       "    </tr>\n",
       "    <tr>\n",
       "      <th>2</th>\n",
       "      <td>504310</td>\n",
       "      <td>52</td>\n",
       "      <td>50s-55s</td>\n",
       "      <td>Female</td>\n",
       "      <td>10.6</td>\n",
       "      <td>1</td>\n",
       "      <td>2021-03-14</td>\n",
       "      <td>10.600</td>\n",
       "      <td>Digital Wallets</td>\n",
       "      <td>761</td>\n",
       "      <td>Chrome</td>\n",
       "      <td>subscribed</td>\n",
       "      <td>not used</td>\n",
       "    </tr>\n",
       "    <tr>\n",
       "      <th>3</th>\n",
       "      <td>504311</td>\n",
       "      <td>29</td>\n",
       "      <td>25s-30s</td>\n",
       "      <td>Male</td>\n",
       "      <td>54.1</td>\n",
       "      <td>5</td>\n",
       "      <td>2021-10-25</td>\n",
       "      <td>43.280</td>\n",
       "      <td>Card</td>\n",
       "      <td>906</td>\n",
       "      <td>Chrome</td>\n",
       "      <td>subscribed</td>\n",
       "      <td>not used</td>\n",
       "    </tr>\n",
       "    <tr>\n",
       "      <th>4</th>\n",
       "      <td>504312</td>\n",
       "      <td>21</td>\n",
       "      <td>20s-25s</td>\n",
       "      <td>Female</td>\n",
       "      <td>56.9</td>\n",
       "      <td>1</td>\n",
       "      <td>2021-09-14</td>\n",
       "      <td>56.900</td>\n",
       "      <td>Card</td>\n",
       "      <td>605</td>\n",
       "      <td>Chrome</td>\n",
       "      <td>subscribed</td>\n",
       "      <td>not used</td>\n",
       "    </tr>\n",
       "  </tbody>\n",
       "</table>\n",
       "</div>"
      ],
      "text/plain": [
       "   Customer_id  Age Group-Age  Gender  Revenue_Total  N_Purchases  \\\n",
       "0       504308   53   50s-55s    Male           45.3            2   \n",
       "1       504309   18   15s-20s  Female           36.2            3   \n",
       "2       504310   52   50s-55s  Female           10.6            1   \n",
       "3       504311   29   25s-30s    Male           54.1            5   \n",
       "4       504312   21   20s-25s  Female           56.9            1   \n",
       "\n",
       "  Purchase_DATE  Purchase_VALUE       Pay_Method  Time_Spent Browser  \\\n",
       "0    2021-06-22          24.915             Card         885  Chrome   \n",
       "1    2021-10-12           2.896             Card         656  Chrome   \n",
       "2    2021-03-14          10.600  Digital Wallets         761  Chrome   \n",
       "3    2021-10-25          43.280             Card         906  Chrome   \n",
       "4    2021-09-14          56.900             Card         605  Chrome   \n",
       "\n",
       "       Newsletter   Voucher  \n",
       "0  not subscribed  not used  \n",
       "1  not subscribed      used  \n",
       "2      subscribed  not used  \n",
       "3      subscribed  not used  \n",
       "4      subscribed  not used  "
      ]
     },
     "execution_count": 19,
     "metadata": {},
     "output_type": "execute_result"
    }
   ],
   "source": [
    "df.head()"
   ]
  },
  {
   "cell_type": "code",
   "execution_count": 20,
   "id": "7e7455f8-7fc6-4ede-b030-d23886159e3e",
   "metadata": {},
   "outputs": [
    {
     "data": {
      "image/png": "[encoded data removed]",
      "text/plain": [
       "<Figure size 640x480 with 1 Axes>"
      ]
     },
     "metadata": {},
     "output_type": "display_data"
    }
   ],
   "source": [
    "group_buy_most = df.groupby('Group-Age')['Revenue_Total'].sum()\n",
    "fig, ax = plt.subplots()\n",
    "ax.bar(group_buy_most.index, group_buy_most.values)\n",
    "ax.set_xlabel('Sales')\n",
    "ax.set_ylabel('Group Age')\n",
    "plt.xticks(rotation='vertical', size=10)\n",
    "plt.show()"
   ]
  },
  {
   "cell_type": "markdown",
   "id": "5948ad44-4d1e-4408-ba12-f956a8d47f85",
   "metadata": {},
   "source": [
    "### What Payment Method is used most by Age_Groups"
   ]
  },
  {
   "cell_type": "code",
   "execution_count": 23,
   "id": "f7f9798b-3768-4c87-832f-8f1e0a371b5e",
   "metadata": {},
   "outputs": [
    {
     "data": {
      "text/plain": [
       "Group-Age  Pay_Method     \n",
       "15s-20s    Card               2746\n",
       "           Digital Wallets    1584\n",
       "           Other              1046\n",
       "20s-25s    Card               4259\n",
       "           Digital Wallets    2373\n",
       "           Other              1531\n",
       "25s-30s    Card               2865\n",
       "           Digital Wallets    1570\n",
       "           Other              1049\n",
       "30s-35s    Card               4249\n",
       "           Digital Wallets    2387\n",
       "           Other              1512\n",
       "35s-40s    Card               2843\n",
       "           Digital Wallets    1607\n",
       "           Other              1057\n",
       "40s-45s    Card               4314\n",
       "           Digital Wallets    2349\n",
       "           Other              1568\n",
       "45s-50s    Card               2997\n",
       "           Digital Wallets    1591\n",
       "           Other              1031\n",
       "50s-55s    Card               4372\n",
       "           Digital Wallets    2400\n",
       "           Other              1531\n",
       "55s-60s    Card               2806\n",
       "           Digital Wallets    1592\n",
       "           Other              1037\n",
       "60s-65s    Card               2854\n",
       "           Digital Wallets    1622\n",
       "           Other              1054\n",
       "Name: count, dtype: int64"
      ]
     },
     "execution_count": 23,
     "metadata": {},
     "output_type": "execute_result"
    }
   ],
   "source": [
    "pay_method_counts = df.groupby(['Group-Age'])['Pay_Method'].value_counts()\n",
    "pay_method_counts"
   ]
  },
  {
   "cell_type": "code",
   "execution_count": 24,
   "id": "3f76a773-ea42-4ab7-b419-5fd30ba32ed0",
   "metadata": {},
   "outputs": [
    {
     "data": {
      "text/plain": [
       "'Card'"
      ]
     },
     "execution_count": 24,
     "metadata": {},
     "output_type": "execute_result"
    }
   ],
   "source": [
    "most_used_payment = df['Pay_Method'].value_counts().idxmax()\n",
    "most_used_payment"
   ]
  },
  {
   "cell_type": "markdown",
   "id": "8d9e5c7d-8453-4a50-8d33-0748b65c0213",
   "metadata": {},
   "source": [
    "### What Browsers Our Customers use most ?"
   ]
  },
  {
   "cell_type": "code",
   "execution_count": 26,
   "id": "f5b1c4d4-9cd0-41f0-90ab-4d6ab4187c46",
   "metadata": {},
   "outputs": [
    {
     "data": {
      "text/plain": [
       "Browser\n",
       "Chrome    42076\n",
       "Safari    13135\n",
       "Other      7208\n",
       "Edge       3377\n",
       "Name: count, dtype: int64"
      ]
     },
     "execution_count": 26,
     "metadata": {},
     "output_type": "execute_result"
    }
   ],
   "source": [
    "most_used_browser = df['Browser'].value_counts()\n",
    "most_used_browser"
   ]
  },
  {
   "cell_type": "markdown",
   "id": "b64e78ff-463e-4b22-8507-9128e1510eac",
   "metadata": {},
   "source": [
    "### Best Month For Sale  "
   ]
  },
  {
   "cell_type": "code",
   "execution_count": 28,
   "id": "6803cb10-d12e-4673-bf05-ac65801d0ad2",
   "metadata": {},
   "outputs": [
    {
     "data": {
      "text/html": [
       "<div>\n",
       "<style scoped>\n",
       "    .dataframe tbody tr th:only-of-type {\n",
       "        vertical-align: middle;\n",
       "    }\n",
       "\n",
       "    .dataframe tbody tr th {\n",
       "        vertical-align: top;\n",
       "    }\n",
       "\n",
       "    .dataframe thead th {\n",
       "        text-align: right;\n",
       "    }\n",
       "</style>\n",
       "<table border=\"1\" class=\"dataframe\">\n",
       "  <thead>\n",
       "    <tr style=\"text-align: right;\">\n",
       "      <th></th>\n",
       "      <th>sum</th>\n",
       "    </tr>\n",
       "    <tr>\n",
       "      <th>Purchase_DATE</th>\n",
       "      <th></th>\n",
       "    </tr>\n",
       "  </thead>\n",
       "  <tbody>\n",
       "    <tr>\n",
       "      <th>1</th>\n",
       "      <td>89459.438</td>\n",
       "    </tr>\n",
       "    <tr>\n",
       "      <th>2</th>\n",
       "      <td>82065.269</td>\n",
       "    </tr>\n",
       "    <tr>\n",
       "      <th>3</th>\n",
       "      <td>89367.929</td>\n",
       "    </tr>\n",
       "    <tr>\n",
       "      <th>4</th>\n",
       "      <td>85409.355</td>\n",
       "    </tr>\n",
       "    <tr>\n",
       "      <th>5</th>\n",
       "      <td>87938.008</td>\n",
       "    </tr>\n",
       "    <tr>\n",
       "      <th>6</th>\n",
       "      <td>87737.820</td>\n",
       "    </tr>\n",
       "    <tr>\n",
       "      <th>7</th>\n",
       "      <td>87886.125</td>\n",
       "    </tr>\n",
       "    <tr>\n",
       "      <th>8</th>\n",
       "      <td>89494.439</td>\n",
       "    </tr>\n",
       "    <tr>\n",
       "      <th>9</th>\n",
       "      <td>85374.270</td>\n",
       "    </tr>\n",
       "    <tr>\n",
       "      <th>10</th>\n",
       "      <td>89876.060</td>\n",
       "    </tr>\n",
       "    <tr>\n",
       "      <th>11</th>\n",
       "      <td>84703.236</td>\n",
       "    </tr>\n",
       "    <tr>\n",
       "      <th>12</th>\n",
       "      <td>91364.573</td>\n",
       "    </tr>\n",
       "  </tbody>\n",
       "</table>\n",
       "</div>"
      ],
      "text/plain": [
       "                     sum\n",
       "Purchase_DATE           \n",
       "1              89459.438\n",
       "2              82065.269\n",
       "3              89367.929\n",
       "4              85409.355\n",
       "5              87938.008\n",
       "6              87737.820\n",
       "7              87886.125\n",
       "8              89494.439\n",
       "9              85374.270\n",
       "10             89876.060\n",
       "11             84703.236\n",
       "12             91364.573"
      ]
     },
     "execution_count": 28,
     "metadata": {},
     "output_type": "execute_result"
    }
   ],
   "source": [
    "best_month_sales = df.groupby(df['Purchase_DATE'].dt.month)['Purchase_VALUE'].agg(['sum'])\n",
    "best_month_sales"
   ]
  },
  {
   "cell_type": "markdown",
   "id": "ad2655e7-3fde-4cef-9564-ecc99311db00",
   "metadata": {},
   "source": [
    "### Highest Orders In Months"
   ]
  },
  {
   "cell_type": "code",
   "execution_count": 30,
   "id": "d8fb63db-a142-48ca-9021-e2f830cf4f3a",
   "metadata": {},
   "outputs": [
    {
     "data": {
      "image/png": "[encoded data removed]",
      "text/plain": [
       "<Figure size 640x480 with 1 Axes>"
      ]
     },
     "metadata": {},
     "output_type": "display_data"
    }
   ],
   "source": [
    "df['month'] = df['Purchase_DATE'].dt.month\n",
    "highest_orders = df['month'].value_counts()\n",
    "highest_orders.plot(kind='bar', color='skyblue', edgecolor='black')\n",
    "plt.xlabel(\"Month\")\n",
    "plt.ylabel(\"Number of Orders\")\n",
    "plt.title(\"Orders per Month\")\n",
    "plt.show()"
   ]
  },
  {
   "cell_type": "markdown",
   "id": "f4195871-667f-45de-af05-5d794aa17092",
   "metadata": {},
   "source": [
    "### Highest Sale In Month"
   ]
  },
  {
   "cell_type": "code",
   "execution_count": 86,
   "id": "36a3815b-1b3c-42f3-a9b3-872c92e1bd53",
   "metadata": {},
   "outputs": [
    {
     "data": {
      "text/plain": [
       "month\n",
       "1     89459.438\n",
       "2     82065.269\n",
       "3     89367.929\n",
       "4     85409.355\n",
       "5     87938.008\n",
       "6     87737.820\n",
       "7     87886.125\n",
       "8     89494.439\n",
       "9     85374.270\n",
       "10    89876.060\n",
       "11    84703.236\n",
       "12    91364.573\n",
       "Name: Purchase_VALUE, dtype: float64"
      ]
     },
     "execution_count": 86,
     "metadata": {},
     "output_type": "execute_result"
    }
   ],
   "source": [
    "highest_sale = df.groupby('month')['Purchase_VALUE'].sum()\n",
    "highest_sale"
   ]
  },
  {
   "cell_type": "markdown",
   "id": "95859b43-4ffc-476e-82f0-72640e236ce5",
   "metadata": {},
   "source": [
    "##### As you can see in result , December is the best month for Sales."
   ]
  },
  {
   "cell_type": "markdown",
   "id": "1812ff8c-d52a-4c1c-b2aa-04c7871cc7d7",
   "metadata": {},
   "source": [
    "### Who are our Best Customers (Males Or Females ?)"
   ]
  },
  {
   "cell_type": "code",
   "execution_count": 124,
   "id": "315e5aad-e2e7-4770-857b-5f15594c47de",
   "metadata": {},
   "outputs": [
    {
     "data": {
      "text/html": [
       "<div>\n",
       "<style scoped>\n",
       "    .dataframe tbody tr th:only-of-type {\n",
       "        vertical-align: middle;\n",
       "    }\n",
       "\n",
       "    .dataframe tbody tr th {\n",
       "        vertical-align: top;\n",
       "    }\n",
       "\n",
       "    .dataframe thead tr th {\n",
       "        text-align: left;\n",
       "    }\n",
       "\n",
       "    .dataframe thead tr:last-of-type th {\n",
       "        text-align: right;\n",
       "    }\n",
       "</style>\n",
       "<table border=\"1\" class=\"dataframe\">\n",
       "  <thead>\n",
       "    <tr>\n",
       "      <th></th>\n",
       "      <th colspan=\"2\" halign=\"left\">Revenue_Total</th>\n",
       "      <th colspan=\"2\" halign=\"left\">N_Purchases</th>\n",
       "    </tr>\n",
       "    <tr>\n",
       "      <th></th>\n",
       "      <th>sum</th>\n",
       "      <th>mean</th>\n",
       "      <th>sum</th>\n",
       "      <th>mean</th>\n",
       "    </tr>\n",
       "    <tr>\n",
       "      <th>Gender</th>\n",
       "      <th></th>\n",
       "      <th></th>\n",
       "      <th></th>\n",
       "      <th></th>\n",
       "    </tr>\n",
       "  </thead>\n",
       "  <tbody>\n",
       "    <tr>\n",
       "      <th>Female</th>\n",
       "      <td>1224554.7</td>\n",
       "      <td>27.722419</td>\n",
       "      <td>176447</td>\n",
       "      <td>3.994544</td>\n",
       "    </tr>\n",
       "    <tr>\n",
       "      <th>Male</th>\n",
       "      <td>600161.5</td>\n",
       "      <td>27.754416</td>\n",
       "      <td>86242</td>\n",
       "      <td>3.988254</td>\n",
       "    </tr>\n",
       "  </tbody>\n",
       "</table>\n",
       "</div>"
      ],
      "text/plain": [
       "       Revenue_Total            N_Purchases          \n",
       "                 sum       mean         sum      mean\n",
       "Gender                                               \n",
       "Female     1224554.7  27.722419      176447  3.994544\n",
       "Male        600161.5  27.754416       86242  3.988254"
      ]
     },
     "execution_count": 124,
     "metadata": {},
     "output_type": "execute_result"
    }
   ],
   "source": [
    "best_customers = df.groupby('Gender')[['Revenue_Total','N_Purchases']].agg(['sum','mean'])\n",
    "best_customers"
   ]
  },
  {
   "cell_type": "markdown",
   "id": "09453d12-7c0f-409a-b390-9b30106a29c3",
   "metadata": {},
   "source": [
    "### What is the average time spent by male and female respectively on our Website ? "
   ]
  },
  {
   "cell_type": "code",
   "execution_count": 122,
   "id": "a6c722d7-b468-4154-ac8d-fe1ad287b36d",
   "metadata": {},
   "outputs": [
    {
     "data": {
      "text/plain": [
       "Gender\n",
       "Female    599.235647\n",
       "Male      598.292268\n",
       "Name: Time_Spent, dtype: float64"
      ]
     },
     "execution_count": 122,
     "metadata": {},
     "output_type": "execute_result"
    }
   ],
   "source": [
    "average_time = df.groupby('Gender')['Time_Spent'].mean()\n",
    "average_time"
   ]
  },
  {
   "cell_type": "code",
   "execution_count": null,
   "id": "9fdba8b7-5968-4f01-8506-635465d5f91b",
   "metadata": {},
   "outputs": [],
   "source": []
  }
 ],
 "metadata": {
  "kernelspec": {
   "display_name": "Python 3 (ipykernel)",
   "language": "python",
   "name": "python3"
  },
  "language_info": {
   "codemirror_mode": {
    "name": "ipython",
    "version": 3
   },
   "file_extension": ".py",
   "mimetype": "text/x-python",
   "name": "python",
   "nbconvert_exporter": "python",
   "pygments_lexer": "ipython3",
   "version": "3.12.4"
  }
 },
 "nbformat": 4,
 "nbformat_minor": 5
}
